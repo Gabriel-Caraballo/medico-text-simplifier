{
 "cells": [
  {
   "cell_type": "markdown",
   "id": "96b16264",
   "metadata": {},
   "source": [
    "# Demostración del Modelo de Simplificación de Textos Médicos\n",
    "\n",
    "Este notebook muestra cómo utilizar el modelo de IA para simplificar textos médicos técnicos en explicaciones claras y comprensibles para pacientes.\n",
    "\n",
    "## Contenido\n",
    "1. Configuración del entorno\n",
    "2. Carga del modelo\n",
    "3. Ejemplos de uso\n",
    "4. Visualización de resultados\n",
    "5. Demo interactiva"
   ]
  },
  {
   "cell_type": "code",
   "execution_count": null,
   "id": "8dceda7f",
   "metadata": {},
   "outputs": [],
   "source": [
    "# Importar las bibliotecas necesarias\n",
    "import torch\n",
    "from transformers import AutoTokenizer, AutoModelForSeq2SeqLM\n",
    "from peft import PeftModel\n",
    "import ipywidgets as widgets\n",
    "from IPython.display import display, HTML\n",
    "import matplotlib.pyplot as plt\n",
    "import seaborn as sns"
   ]
  },
  {
   "cell_type": "markdown",
   "id": "75465421",
   "metadata": {},
   "source": [
    "## Carga del Modelo y Tokenizer\n",
    "\n",
    "Cargaremos el modelo base FLAN-T5 con los adaptadores LoRA entrenados para la simplificación de textos médicos."
   ]
  },
  {
   "cell_type": "code",
   "execution_count": null,
   "id": "b6b48b1d",
   "metadata": {},
   "outputs": [],
   "source": [
    "# Cargar tokenizer\n",
    "tokenizer = AutoTokenizer.from_pretrained(\"../model\")\n",
    "\n",
    "# Cargar modelo base\n",
    "modelo_base = AutoModelForSeq2SeqLM.from_pretrained(\n",
    "    \"google/flan-t5-large\",\n",
    "    torch_dtype=torch.bfloat16,\n",
    "    low_cpu_mem_usage=True\n",
    ")\n",
    "\n",
    "# Verificar y ajustar el tamaño del vocabulario\n",
    "target_vocab_size = len(tokenizer)\n",
    "current_vocab = modelo_base.get_input_embeddings().weight.shape[0]\n",
    "if current_vocab != target_vocab_size:\n",
    "    print(f\"Redimensionando embeddings: {current_vocab} -> {target_vocab_size}\")\n",
    "    modelo_base.resize_token_embeddings(target_vocab_size)\n",
    "\n",
    "# Cargar adaptadores LoRA\n",
    "modelo = PeftModel.from_pretrained(modelo_base, \"../model\")\n",
    "modelo.eval()\n",
    "\n",
    "# Mover a GPU si está disponible\n",
    "if torch.cuda.is_available():\n",
    "    modelo = modelo.to(\"cuda:0\")\n",
    "    print(\"Modelo cargado en GPU\")\n",
    "else:\n",
    "    print(\"Modelo cargado en CPU\")"
   ]
  },
  {
   "cell_type": "markdown",
   "id": "5d3f3371",
   "metadata": {},
   "source": [
    "## Función de Inferencia\n",
    "\n",
    "Definiremos una función que simplifica el texto médico usando nuestro modelo."
   ]
  },
  {
   "cell_type": "code",
   "execution_count": null,
   "id": "6cbaa15d",
   "metadata": {},
   "outputs": [],
   "source": [
    "def simplificar_texto_medico(texto):\n",
    "    \"\"\"\n",
    "    Simplifica un texto médico técnico en una explicación clara para pacientes.\n",
    "    \n",
    "    Args:\n",
    "        texto (str): Texto médico técnico a simplificar\n",
    "        \n",
    "    Returns:\n",
    "        str: Texto simplificado\n",
    "    \"\"\"\n",
    "    # Preparar el prompt\n",
    "    prompt = f\"Transforma el siguiente texto médico técnico en una explicación clara, empática y comprensible para pacientes. Usa lenguaje sencillo, evita términos especializados, y transmite la información de forma neutral y accesible: {texto}\"\n",
    "    \n",
    "    # Tokenizar\n",
    "    inputs = tokenizer(prompt, return_tensors=\"pt\", truncation=True, max_length=128)\n",
    "    if torch.cuda.is_available():\n",
    "        inputs = inputs.to(\"cuda:0\")\n",
    "    \n",
    "    # Generar respuesta\n",
    "    with torch.no_grad():\n",
    "        outputs = modelo.generate(\n",
    "            **inputs,\n",
    "            max_new_tokens=64,\n",
    "            num_beams=4,\n",
    "            pad_token_id=tokenizer.pad_token_id\n",
    "        )\n",
    "    \n",
    "    # Decodificar y retornar\n",
    "    return tokenizer.decode(outputs[0], skip_special_tokens=True)"
   ]
  },
  {
   "cell_type": "markdown",
   "id": "8a5f800d",
   "metadata": {},
   "source": [
    "## Demo Interactiva\n",
    "\n",
    "Crearemos una interfaz interactiva para probar el modelo con diferentes textos médicos."
   ]
  },
  {
   "cell_type": "code",
   "execution_count": null,
   "id": "c801fd72",
   "metadata": {},
   "outputs": [],
   "source": [
    "def crear_interfaz_demo():\n",
    "    # Crear widgets\n",
    "    texto_input = widgets.Textarea(\n",
    "        value='',\n",
    "        placeholder='Ingrese el texto médico aquí...',\n",
    "        description='Texto:',\n",
    "        disabled=False,\n",
    "        layout={'width': '100%', 'height': '100px'}\n",
    "    )\n",
    "    \n",
    "    boton_simplificar = widgets.Button(\n",
    "        description='Simplificar',\n",
    "        button_style='primary',\n",
    "        tooltip='Haz clic para simplificar el texto'\n",
    "    )\n",
    "    \n",
    "    output = widgets.Output()\n",
    "    \n",
    "    # Función de callback\n",
    "    def on_button_click(b):\n",
    "        with output:\n",
    "            output.clear_output()\n",
    "            if not texto_input.value:\n",
    "                print(\"Por favor, ingrese un texto médico para simplificar.\")\n",
    "                return\n",
    "                \n",
    "            print(\"Texto original:\")\n",
    "            print(texto_input.value)\n",
    "            print(\"\\nTexto simplificado:\")\n",
    "            print(simplificar_texto_medico(texto_input.value))\n",
    "    \n",
    "    boton_simplificar.on_click(on_button_click)\n",
    "    \n",
    "    # Mostrar widgets\n",
    "    display(texto_input)\n",
    "    display(boton_simplificar)\n",
    "    display(output)\n",
    "\n",
    "# Crear la interfaz\n",
    "crear_interfaz_demo()"
   ]
  },
  {
   "cell_type": "markdown",
   "id": "33c5e006",
   "metadata": {},
   "source": [
    "## Ejemplos de Uso\n",
    "\n",
    "A continuación se muestran algunos ejemplos de textos médicos y sus simplificaciones:"
   ]
  },
  {
   "cell_type": "code",
   "execution_count": null,
   "id": "dc5be437",
   "metadata": {},
   "outputs": [],
   "source": [
    "# Lista de ejemplos\n",
    "ejemplos = [\n",
    "    \"Paciente con hiperlipidemia mixta sin tratamiento previo\",\n",
    "    \"Síndrome de apnea-hipopnea obstructiva del sueño severa sin tratamiento\",\n",
    "    \"Crisis hipertensiva con edema agudo de pulmón\"\n",
    "]\n",
    "\n",
    "# Procesar y mostrar cada ejemplo\n",
    "for texto in ejemplos:\n",
    "    print(\"Texto original:\")\n",
    "    print(texto)\n",
    "    print(\"\\nTexto simplificado:\")\n",
    "    print(simplificar_texto_medico(texto))\n",
    "    print(\"\\n\" + \"-\"*50 + \"\\n\")"
   ]
  }
 ],
 "metadata": {
  "language_info": {
   "name": "python"
  }
 },
 "nbformat": 4,
 "nbformat_minor": 5
}
